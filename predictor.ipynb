{
 "cells": [
  {
   "cell_type": "markdown",
   "metadata": {},
   "source": [
    "## Race Time Predictor\n",
    "\n",
    "This machine learning model aims to predict the duration of a run (jog) based on gender, distance, elevation gain, heart rate zone and time of day. Simply enter the information for your run and click \"Get Prediction\". Note that this model was built using a dataset found on Kaggle [here](https://www.kaggle.com/datasets/olegoaer/running-races-strava). Also, to see the full model-building process, head to the project's [GitHub page](https://github.com/jackkq/Race-Time-Predictor).\n",
    "***"
   ]
  },
  {
   "cell_type": "code",
   "execution_count": 29,
   "metadata": {},
   "outputs": [],
   "source": [
    "# Make model\n",
    "\n",
    "from sklearn.linear_model import ElasticNet\n",
    "from sklearn.preprocessing import StandardScaler\n",
    "import pandas as pd\n",
    "from sklearn.model_selection import StratifiedShuffleSplit\n",
    "import numpy as np\n",
    "\n",
    "def load_data(path):\n",
    "    return pd.read_csv(path, sep=\";\", header=0, names=[\"athlete_id\", \"gender\", \"timestamp\", \"distance\", \"elapsed_time\", \"elev_gain\", \"bpm\"])\n",
    "\n",
    "raw_data = load_data(\"./data.csv\")\n",
    "\n",
    "# Remove rows with 0 distance as these are not actually activities\n",
    "data = raw_data[raw_data[\"distance\"] != 0.0]\n",
    "data = data.drop(columns=[\"athlete_id\"])\n",
    "data[\"timestamp\"] = data.apply(lambda x: x['timestamp'][11:13], axis = 1)\n",
    "data = data.reset_index(drop=True)\n",
    "\n",
    "data[\"distance_cat\"] = pd.cut(data[\"distance\"], \n",
    "                                bins = [0., 5000., 10000., 15000., 20000., np.inf],\n",
    "                                labels=[1, 2, 3, 4, 5])\n",
    "\n",
    "split = StratifiedShuffleSplit(n_splits=1, test_size=0.2, random_state=42)\n",
    "for train_index, test_index in split.split(data, data[\"distance_cat\"]):\n",
    "    train_set = data.loc[train_index]\n",
    "    test_set = data.loc[test_index]\n",
    "\n",
    "for set_ in (train_set, test_set):\n",
    "    set_.drop(\"distance_cat\", axis=1, inplace=True)\n",
    "\n",
    "explore = train_set.copy()\n",
    "explore[\"gender\"] = explore[\"gender\"].fillna(\"M\")\n",
    "explore = explore.dropna(subset=[\"bpm\"])\n",
    "explore.loc[explore['gender'] == 'M', 'gender'] = 0\n",
    "explore.loc[explore['gender'] == 'F', 'gender'] = 1\n",
    "\n",
    "def map_to_zone(bpm):\n",
    "    if bpm <= 104: \n",
    "        return 1\n",
    "    elif bpm > 104 and bpm <= 121:\n",
    "        return 2\n",
    "    elif bpm > 121 and bpm <= 139:\n",
    "        return 3\n",
    "    elif bpm > 139 and bpm <= 156:\n",
    "        return 4\n",
    "    else:\n",
    "        return 5 \n",
    "\n",
    "explore[\"bpm\"] = explore[\"bpm\"].apply(map_to_zone)\n",
    "\n",
    "explore[\"timestamp\"] = explore[\"timestamp\"].astype(\"int\")\n",
    "explore[\"time_of_day\"] = (explore['timestamp'] % 24) // 4 \n",
    "explore = explore.drop(columns=[\"timestamp\"])\n",
    "prepared = explore.drop(\"elapsed_time\", axis=1) \n",
    "labels = explore[\"elapsed_time\"].copy()\n",
    "\n",
    "scaler = StandardScaler().set_output(transform=\"pandas\")\n",
    "prepared = scaler.fit_transform(prepared)\n",
    "\n",
    "model = ElasticNet(alpha=0.1, l1_ratio=0.93)\n",
    "model.fit(prepared, labels)\n",
    "pass"
   ]
  },
  {
   "cell_type": "code",
   "execution_count": 13,
   "metadata": {},
   "outputs": [],
   "source": [
    "import datetime\n",
    "\n",
    "def map_time_to_int(time):\n",
    "    hour = time.hour\n",
    "    if 0 <= hour < 4:\n",
    "        return 0\n",
    "    elif 4 <= hour < 8:\n",
    "        return 1\n",
    "    elif 8 <= hour < 12:\n",
    "        return 2\n",
    "    elif 12 <= hour < 16:\n",
    "        return 3\n",
    "    elif 16 <= hour < 20:\n",
    "        return 4\n",
    "    else:\n",
    "        return 5\n",
    "    \n",
    "def format_time(seconds):\n",
    "    hours = seconds // 3600\n",
    "    remaining_seconds = seconds % 3600\n",
    "    minutes = remaining_seconds // 60\n",
    "    remaining_seconds %= 60\n",
    "    return hours, minutes, round(remaining_seconds)"
   ]
  },
  {
   "cell_type": "code",
   "execution_count": 14,
   "metadata": {},
   "outputs": [
    {
     "data": {
      "application/vnd.jupyter.widget-view+json": {
       "model_id": "9fb722c0ebbf485c919884fa61000da1",
       "version_major": 2,
       "version_minor": 0
      },
      "text/plain": [
       "interactive(children=(Dropdown(description='Gender: ', options=('M', 'F'), style=DescriptionStyle(description_…"
      ]
     },
     "metadata": {},
     "output_type": "display_data"
    },
    {
     "data": {
      "text/plain": [
       "<function __main__.get_prediction(gender, distance, elev_gain, bpm, time_of_day)>"
      ]
     },
     "metadata": {},
     "output_type": "display_data"
    }
   ],
   "source": [
    "import ipywidgets as widgets\n",
    "\n",
    "layout = widgets.Layout(width='auto')\n",
    "\n",
    "def get_prediction(gender, distance, elev_gain, bpm, time_of_day):\n",
    "    gender = (0 if gender=='M' else 1)\n",
    "    distance = distance*1000 # Use m instead of km\n",
    "    time_of_day = map_time_to_int(time_of_day)\n",
    "    predict_data = pd.DataFrame(np.array([[gender, distance, elev_gain, bpm, time_of_day]]), columns = ['gender','distance','elev_gain', 'bpm','time_of_day'])\n",
    "    make_predict = scaler.transform(predict_data)\n",
    "    prediction = model.predict(make_predict)[0]\n",
    "    hours, minutes, seconds = format_time(prediction)\n",
    "    print(\"The model predicts that your run will take {} hours, {} minutes and {} seconds.\".format(hours, minutes, seconds))\n",
    "im = widgets.interact_manual(get_prediction,gender=widgets.Dropdown(options=['M', 'F'], value='M', description='Gender: ', style= {'description_width': 'initial'}),\n",
    "    distance = widgets.FloatSlider(min=0, max=100, step=0.1, description='Distance (km): ', style= {'description_width': 'initial'}),\n",
    "    elev_gain = widgets.IntSlider(min=0, max=1000, step=1, description='Elevation gain (m): ', style= {'description_width': 'initial'}),\n",
    "    bpm = widgets.Dropdown(options=[1,2,3,4,5], value=1, description='Heart Rate Zone: ', style= {'description_width': 'initial'}),\n",
    "    time_of_day = widgets.TimePicker(description='Time of run: ', style= {'description_width': 'initial'})\n",
    ")\n",
    "im.widget.children[-2].description = 'Get Prediction'\n",
    "display(im)\n",
    "pass"
   ]
  },
  {
   "cell_type": "code",
   "execution_count": null,
   "metadata": {},
   "outputs": [],
   "source": []
  }
 ],
 "metadata": {
  "kernelspec": {
   "display_name": "timepredictor",
   "language": "python",
   "name": "python3"
  },
  "language_info": {
   "codemirror_mode": {
    "name": "ipython",
    "version": 3
   },
   "file_extension": ".py",
   "mimetype": "text/x-python",
   "name": "python",
   "nbconvert_exporter": "python",
   "pygments_lexer": "ipython3",
   "version": "3.10.12"
  }
 },
 "nbformat": 4,
 "nbformat_minor": 2
}
