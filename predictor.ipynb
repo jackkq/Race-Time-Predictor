{
 "cells": [
  {
   "cell_type": "markdown",
   "metadata": {},
   "source": [
    "## Race Time Predictor\n",
    "\n",
    "This machine learning model aims to predict the duration of a run (jog) based on gender, distance, elevation gain, heart rate zone and time of day. Simply enter the information for you run and click \"Get Prediction. Note that this model was built using a dataset found on Kaggle [here](https://www.kaggle.com/datasets/olegoaer/running-races-strava). Also, to see the full model-building process, head to the project's [GitHub page](https://github.com/jackkq/Race-Time-Predictor).\n",
    "***"
   ]
  },
  {
   "cell_type": "code",
   "execution_count": 4,
   "metadata": {},
   "outputs": [
    {
     "data": {
      "text/html": [
       "<style>#sk-container-id-1 {color: black;}#sk-container-id-1 pre{padding: 0;}#sk-container-id-1 div.sk-toggleable {background-color: white;}#sk-container-id-1 label.sk-toggleable__label {cursor: pointer;display: block;width: 100%;margin-bottom: 0;padding: 0.3em;box-sizing: border-box;text-align: center;}#sk-container-id-1 label.sk-toggleable__label-arrow:before {content: \"▸\";float: left;margin-right: 0.25em;color: #696969;}#sk-container-id-1 label.sk-toggleable__label-arrow:hover:before {color: black;}#sk-container-id-1 div.sk-estimator:hover label.sk-toggleable__label-arrow:before {color: black;}#sk-container-id-1 div.sk-toggleable__content {max-height: 0;max-width: 0;overflow: hidden;text-align: left;background-color: #f0f8ff;}#sk-container-id-1 div.sk-toggleable__content pre {margin: 0.2em;color: black;border-radius: 0.25em;background-color: #f0f8ff;}#sk-container-id-1 input.sk-toggleable__control:checked~div.sk-toggleable__content {max-height: 200px;max-width: 100%;overflow: auto;}#sk-container-id-1 input.sk-toggleable__control:checked~label.sk-toggleable__label-arrow:before {content: \"▾\";}#sk-container-id-1 div.sk-estimator input.sk-toggleable__control:checked~label.sk-toggleable__label {background-color: #d4ebff;}#sk-container-id-1 div.sk-label input.sk-toggleable__control:checked~label.sk-toggleable__label {background-color: #d4ebff;}#sk-container-id-1 input.sk-hidden--visually {border: 0;clip: rect(1px 1px 1px 1px);clip: rect(1px, 1px, 1px, 1px);height: 1px;margin: -1px;overflow: hidden;padding: 0;position: absolute;width: 1px;}#sk-container-id-1 div.sk-estimator {font-family: monospace;background-color: #f0f8ff;border: 1px dotted black;border-radius: 0.25em;box-sizing: border-box;margin-bottom: 0.5em;}#sk-container-id-1 div.sk-estimator:hover {background-color: #d4ebff;}#sk-container-id-1 div.sk-parallel-item::after {content: \"\";width: 100%;border-bottom: 1px solid gray;flex-grow: 1;}#sk-container-id-1 div.sk-label:hover label.sk-toggleable__label {background-color: #d4ebff;}#sk-container-id-1 div.sk-serial::before {content: \"\";position: absolute;border-left: 1px solid gray;box-sizing: border-box;top: 0;bottom: 0;left: 50%;z-index: 0;}#sk-container-id-1 div.sk-serial {display: flex;flex-direction: column;align-items: center;background-color: white;padding-right: 0.2em;padding-left: 0.2em;position: relative;}#sk-container-id-1 div.sk-item {position: relative;z-index: 1;}#sk-container-id-1 div.sk-parallel {display: flex;align-items: stretch;justify-content: center;background-color: white;position: relative;}#sk-container-id-1 div.sk-item::before, #sk-container-id-1 div.sk-parallel-item::before {content: \"\";position: absolute;border-left: 1px solid gray;box-sizing: border-box;top: 0;bottom: 0;left: 50%;z-index: -1;}#sk-container-id-1 div.sk-parallel-item {display: flex;flex-direction: column;z-index: 1;position: relative;background-color: white;}#sk-container-id-1 div.sk-parallel-item:first-child::after {align-self: flex-end;width: 50%;}#sk-container-id-1 div.sk-parallel-item:last-child::after {align-self: flex-start;width: 50%;}#sk-container-id-1 div.sk-parallel-item:only-child::after {width: 0;}#sk-container-id-1 div.sk-dashed-wrapped {border: 1px dashed gray;margin: 0 0.4em 0.5em 0.4em;box-sizing: border-box;padding-bottom: 0.4em;background-color: white;}#sk-container-id-1 div.sk-label label {font-family: monospace;font-weight: bold;display: inline-block;line-height: 1.2em;}#sk-container-id-1 div.sk-label-container {text-align: center;}#sk-container-id-1 div.sk-container {/* jupyter's `normalize.less` sets `[hidden] { display: none; }` but bootstrap.min.css set `[hidden] { display: none !important; }` so we also need the `!important` here to be able to override the default hidden behavior on the sphinx rendered scikit-learn.org. See: https://github.com/scikit-learn/scikit-learn/issues/21755 */display: inline-block !important;position: relative;}#sk-container-id-1 div.sk-text-repr-fallback {display: none;}</style><div id=\"sk-container-id-1\" class=\"sk-top-container\"><div class=\"sk-text-repr-fallback\"><pre>ElasticNet(alpha=0.1, l1_ratio=0.93)</pre><b>In a Jupyter environment, please rerun this cell to show the HTML representation or trust the notebook. <br />On GitHub, the HTML representation is unable to render, please try loading this page with nbviewer.org.</b></div><div class=\"sk-container\" hidden><div class=\"sk-item\"><div class=\"sk-estimator sk-toggleable\"><input class=\"sk-toggleable__control sk-hidden--visually\" id=\"sk-estimator-id-1\" type=\"checkbox\" checked><label for=\"sk-estimator-id-1\" class=\"sk-toggleable__label sk-toggleable__label-arrow\">ElasticNet</label><div class=\"sk-toggleable__content\"><pre>ElasticNet(alpha=0.1, l1_ratio=0.93)</pre></div></div></div></div></div>"
      ],
      "text/plain": [
       "ElasticNet(alpha=0.1, l1_ratio=0.93)"
      ]
     },
     "execution_count": 4,
     "metadata": {},
     "output_type": "execute_result"
    }
   ],
   "source": [
    "# Make model\n",
    "\n",
    "from sklearn.linear_model import ElasticNet\n",
    "from sklearn.preprocessing import StandardScaler\n",
    "import pandas as pd\n",
    "from sklearn.model_selection import StratifiedShuffleSplit\n",
    "import numpy as np\n",
    "\n",
    "def load_data(path):\n",
    "    return pd.read_csv(path, sep=\";\", header=0, names=[\"athlete_id\", \"gender\", \"timestamp\", \"distance\", \"elapsed_time\", \"elev_gain\", \"bpm\"])\n",
    "\n",
    "raw_data = load_data(\"./data.csv\")\n",
    "\n",
    "# Remove rows with 0 distance as these are not actually activities\n",
    "data = raw_data[raw_data[\"distance\"] != 0.0]\n",
    "data = data.drop(columns=[\"athlete_id\"])\n",
    "data[\"timestamp\"] = data.apply(lambda x: x['timestamp'][11:13], axis = 1)\n",
    "data = data.reset_index(drop=True)\n",
    "\n",
    "data[\"distance_cat\"] = pd.cut(data[\"distance\"], \n",
    "                                bins = [0., 5000., 10000., 15000., 20000., np.inf],\n",
    "                                labels=[1, 2, 3, 4, 5])\n",
    "\n",
    "split = StratifiedShuffleSplit(n_splits=1, test_size=0.2, random_state=42)\n",
    "for train_index, test_index in split.split(data, data[\"distance_cat\"]):\n",
    "    train_set = data.loc[train_index]\n",
    "    test_set = data.loc[test_index]\n",
    "\n",
    "for set_ in (train_set, test_set):\n",
    "    set_.drop(\"distance_cat\", axis=1, inplace=True)\n",
    "\n",
    "explore = train_set.copy()\n",
    "explore[\"gender\"] = explore[\"gender\"].fillna(\"M\")\n",
    "explore = explore.dropna(subset=[\"bpm\"])\n",
    "explore.loc[explore['gender'] == 'M', 'gender'] = 0\n",
    "explore.loc[explore['gender'] == 'F', 'gender'] = 1\n",
    "\n",
    "def map_to_zone(bpm):\n",
    "    if bpm <= 104: \n",
    "        return 1\n",
    "    elif bpm > 104 and bpm <= 121:\n",
    "        return 2\n",
    "    elif bpm > 121 and bpm <= 139:\n",
    "        return 3\n",
    "    elif bpm > 139 and bpm <= 156:\n",
    "        return 4\n",
    "    else:\n",
    "        return 5 \n",
    "\n",
    "explore[\"bpm\"] = explore[\"bpm\"].apply(map_to_zone)\n",
    "\n",
    "explore[\"timestamp\"] = explore[\"timestamp\"].astype(\"int\")\n",
    "explore[\"time_of_day\"] = (explore['timestamp'] % 24) // 4 \n",
    "explore = explore.drop(columns=[\"timestamp\"])\n",
    "prepared = explore.drop(\"elapsed_time\", axis=1) \n",
    "labels = explore[\"elapsed_time\"].copy()\n",
    "\n",
    "scaler = StandardScaler().set_output(transform=\"pandas\")\n",
    "prepared = scaler.fit_transform(prepared)\n",
    "\n",
    "model = ElasticNet(alpha=0.1, l1_ratio=0.93)\n",
    "model.fit(prepared, labels)"
   ]
  },
  {
   "cell_type": "code",
   "execution_count": 13,
   "metadata": {},
   "outputs": [],
   "source": [
    "import datetime\n",
    "\n",
    "def map_time_to_int(time):\n",
    "    hour = time.hour\n",
    "    if 0 <= hour < 4:\n",
    "        return 0\n",
    "    elif 4 <= hour < 8:\n",
    "        return 1\n",
    "    elif 8 <= hour < 12:\n",
    "        return 2\n",
    "    elif 12 <= hour < 16:\n",
    "        return 3\n",
    "    elif 16 <= hour < 20:\n",
    "        return 4\n",
    "    else:\n",
    "        return 5\n",
    "    \n",
    "def format_time(seconds):\n",
    "    hours = seconds // 3600\n",
    "    remaining_seconds = seconds % 3600\n",
    "    minutes = remaining_seconds // 60\n",
    "    remaining_seconds %= 60\n",
    "    return hours, minutes, round(remaining_seconds)"
   ]
  },
  {
   "cell_type": "code",
   "execution_count": 14,
   "metadata": {},
   "outputs": [
    {
     "data": {
      "application/vnd.jupyter.widget-view+json": {
       "model_id": "9fb722c0ebbf485c919884fa61000da1",
       "version_major": 2,
       "version_minor": 0
      },
      "text/plain": [
       "interactive(children=(Dropdown(description='Gender: ', options=('M', 'F'), style=DescriptionStyle(description_…"
      ]
     },
     "metadata": {},
     "output_type": "display_data"
    },
    {
     "data": {
      "text/plain": [
       "<function __main__.get_prediction(gender, distance, elev_gain, bpm, time_of_day)>"
      ]
     },
     "metadata": {},
     "output_type": "display_data"
    }
   ],
   "source": [
    "import ipywidgets as widgets\n",
    "\n",
    "layout = widgets.Layout(width='auto')\n",
    "\n",
    "def get_prediction(gender, distance, elev_gain, bpm, time_of_day):\n",
    "    gender = (0 if gender=='M' else 1)\n",
    "    distance = distance*1000 # Use m instead of km\n",
    "    time_of_day = map_time_to_int(time_of_day)\n",
    "    predict_data = pd.DataFrame(np.array([[gender, distance, elev_gain, bpm, time_of_day]]), columns = ['gender','distance','elev_gain', 'bpm','time_of_day'])\n",
    "    make_predict = scaler.transform(predict_data)\n",
    "    prediction = model.predict(make_predict)[0]\n",
    "    hours, minutes, seconds = format_time(prediction)\n",
    "    print(\"The model predicts that your run will take {} hours, {} minutes and {} seconds.\".format(hours, minutes, seconds))\n",
    "im = widgets.interact_manual(get_prediction,gender=widgets.Dropdown(options=['M', 'F'], value='M', description='Gender: ', style= {'description_width': 'initial'}),\n",
    "    distance = widgets.FloatSlider(min=0, max=100, step=0.1, description='Distance (km): ', style= {'description_width': 'initial'}),\n",
    "    elev_gain = widgets.IntSlider(min=0, max=1000, step=1, description='Elevation gain (m): ', style= {'description_width': 'initial'}),\n",
    "    bpm = widgets.Dropdown(options=[1,2,3,4,5], value=1, description='Heart Rate Zone: ', style= {'description_width': 'initial'}),\n",
    "    time_of_day = widgets.TimePicker(description='Time of run: ', style= {'description_width': 'initial'})\n",
    ")\n",
    "im.widget.children[-2].description = 'Get Prediction'\n",
    "display(im)"
   ]
  },
  {
   "cell_type": "code",
   "execution_count": null,
   "metadata": {},
   "outputs": [],
   "source": []
  }
 ],
 "metadata": {
  "kernelspec": {
   "display_name": "timepredictor",
   "language": "python",
   "name": "python3"
  },
  "language_info": {
   "codemirror_mode": {
    "name": "ipython",
    "version": 3
   },
   "file_extension": ".py",
   "mimetype": "text/x-python",
   "name": "python",
   "nbconvert_exporter": "python",
   "pygments_lexer": "ipython3",
   "version": "3.10.12"
  }
 },
 "nbformat": 4,
 "nbformat_minor": 2
}
